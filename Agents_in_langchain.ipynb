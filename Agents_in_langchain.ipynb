{
  "nbformat": 4,
  "nbformat_minor": 0,
  "metadata": {
    "colab": {
      "provenance": []
    },
    "kernelspec": {
      "name": "python3",
      "display_name": "Python 3"
    },
    "language_info": {
      "name": "python"
    }
  },
  "cells": [
    {
      "cell_type": "code",
      "execution_count": 1,
      "metadata": {
        "id": "0NNkcTgrdPap"
      },
      "outputs": [],
      "source": [
        "import os\n",
        "os.environ[\"OPENAI_API_KEY\"] = \"sk-proj-2oCiQGD-PYRYC7KzN0yiXPGvUwTRlZota34yB4Axyt-bUX_RCRrVT7w3XqpmMRf0MMmTvGl_w_Ztb41FXYNPgA\""
      ]
    },
    {
      "cell_type": "code",
      "source": [
        "!pip install -q langchain-openai langchain-community langchain-core requests duckduckgo-search"
      ],
      "metadata": {
        "id": "pxrhDNCSfui_",
        "colab": {
          "base_uri": "https://localhost:8080/"
        },
        "outputId": "cfd164f4-8cdb-48d3-a390-b50fa9f345e3"
      },
      "execution_count": 2,
      "outputs": [
        {
          "output_type": "stream",
          "name": "stdout",
          "text": [
            "\u001b[?25l   \u001b[90m━━━━━━━━━━━━━━━━━━━━━━━━━━━━━━━━━━━━━━━━\u001b[0m \u001b[32m0.0/65.2 kB\u001b[0m \u001b[31m?\u001b[0m eta \u001b[36m-:--:--\u001b[0m\r\u001b[2K   \u001b[90m━━━━━━━━━━━━━━━━━━━━━━━━━━━━━━━━━━━━━━━━\u001b[0m \u001b[32m65.2/65.2 kB\u001b[0m \u001b[31m1.9 MB/s\u001b[0m eta \u001b[36m0:00:00\u001b[0m\n",
            "\u001b[2K   \u001b[90m━━━━━━━━━━━━━━━━━━━━━━━━━━━━━━━━━━━━━━━━\u001b[0m \u001b[32m2.5/2.5 MB\u001b[0m \u001b[31m34.2 MB/s\u001b[0m eta \u001b[36m0:00:00\u001b[0m\n",
            "\u001b[2K   \u001b[90m━━━━━━━━━━━━━━━━━━━━━━━━━━━━━━━━━━━━━━━━\u001b[0m \u001b[32m438.1/438.1 kB\u001b[0m \u001b[31m25.8 MB/s\u001b[0m eta \u001b[36m0:00:00\u001b[0m\n",
            "\u001b[2K   \u001b[90m━━━━━━━━━━━━━━━━━━━━━━━━━━━━━━━━━━━━━━━━\u001b[0m \u001b[32m363.0/363.0 kB\u001b[0m \u001b[31m22.9 MB/s\u001b[0m eta \u001b[36m0:00:00\u001b[0m\n",
            "\u001b[2K   \u001b[90m━━━━━━━━━━━━━━━━━━━━━━━━━━━━━━━━━━━━━━━━\u001b[0m \u001b[32m3.3/3.3 MB\u001b[0m \u001b[31m86.4 MB/s\u001b[0m eta \u001b[36m0:00:00\u001b[0m\n",
            "\u001b[2K   \u001b[90m━━━━━━━━━━━━━━━━━━━━━━━━━━━━━━━━━━━━━━━━\u001b[0m \u001b[32m44.4/44.4 kB\u001b[0m \u001b[31m2.6 MB/s\u001b[0m eta \u001b[36m0:00:00\u001b[0m\n",
            "\u001b[2K   \u001b[90m━━━━━━━━━━━━━━━━━━━━━━━━━━━━━━━━━━━━━━━━\u001b[0m \u001b[32m50.9/50.9 kB\u001b[0m \u001b[31m3.1 MB/s\u001b[0m eta \u001b[36m0:00:00\u001b[0m\n",
            "\u001b[?25h"
          ]
        }
      ]
    },
    {
      "cell_type": "code",
      "source": [
        "from langchain_openai import ChatOpenAI\n",
        "from langchain_core.tools import tool\n",
        "import requests"
      ],
      "metadata": {
        "id": "TsY5q4kZt4OI"
      },
      "execution_count": 3,
      "outputs": []
    },
    {
      "cell_type": "code",
      "source": [
        "from langchain_community.tools import DuckDuckGoSearchRun\n",
        "search_tool = DuckDuckGoSearchRun()"
      ],
      "metadata": {
        "id": "zF-PeMvAuDz2"
      },
      "execution_count": 4,
      "outputs": []
    },
    {
      "cell_type": "code",
      "source": [
        "#custom tools\n",
        "@tool\n",
        "def get_weather_data(city: str) -> str:\n",
        "  \"\"\"\n",
        "  This function fetches the current weather data for a given city\n",
        "  \"\"\"\n",
        "  url = f'https://api.weatherstack.com/current?access_key=4d1d8ae207a8c845a52df8a67bf3623e&query={city}'\n",
        "\n",
        "  response = requests.get(url)\n",
        "\n",
        "  return response.json()"
      ],
      "metadata": {
        "id": "JZ7vj1mKuLVT"
      },
      "execution_count": 5,
      "outputs": []
    },
    {
      "cell_type": "code",
      "source": [
        "llm = ChatOpenAI()"
      ],
      "metadata": {
        "id": "uN0uyQ7OvWYu"
      },
      "execution_count": 6,
      "outputs": []
    },
    {
      "cell_type": "code",
      "source": [
        "#Step1: import necessary library\n",
        "from langchain.agents import create_react_agent, AgentExecutor\n",
        "from langchain import hub     #hub is mainly used to load prebuilt prompts"
      ],
      "metadata": {
        "id": "AUW7YpzPvf0F"
      },
      "execution_count": 7,
      "outputs": []
    },
    {
      "cell_type": "code",
      "source": [
        "# Step 2: Pull the ReAct prompt from LangChain Hub\n",
        "prompt = hub.pull(\"hwchase17/react\")\n"
      ],
      "metadata": {
        "colab": {
          "base_uri": "https://localhost:8080/"
        },
        "id": "ww4bF6KDvgro",
        "outputId": "b65cbc7e-cc93-4df0-f97b-05ac7f62cf52"
      },
      "execution_count": 8,
      "outputs": [
        {
          "output_type": "stream",
          "name": "stderr",
          "text": [
            "/usr/local/lib/python3.11/dist-packages/langsmith/client.py:272: LangSmithMissingAPIKeyWarning: API key must be provided when using hosted LangSmith API\n",
            "  warnings.warn(\n"
          ]
        }
      ]
    },
    {
      "cell_type": "code",
      "source": [
        "# Step 3: Create the ReAct agent manually with the pulled prompt\n",
        "agent = create_react_agent(\n",
        "    llm=llm,\n",
        "    tools=[search_tool, get_weather_data],\n",
        "    prompt=prompt\n",
        ")"
      ],
      "metadata": {
        "id": "ymwzLiStyXXO"
      },
      "execution_count": 9,
      "outputs": []
    },
    {
      "cell_type": "code",
      "source": [
        "# Step 4: Wrap it with AgentExecutor\n",
        "agent_executor = AgentExecutor(\n",
        "    agent=agent,\n",
        "    tools=[search_tool, get_weather_data],\n",
        "    verbose=True\n",
        ")     #it takes the agent + tools and actually execute the task"
      ],
      "metadata": {
        "id": "qlzFtH33yuaZ"
      },
      "execution_count": 11,
      "outputs": []
    },
    {
      "cell_type": "code",
      "source": [
        "# Step 5: Invoke\n",
        "response = agent_executor.invoke({\"input\": \"Find the capital of UTTARAKhAND, then find it's current weather condition and the air quality\"})\n",
        "print(response)    #agent scratchpad (it gives the entire thought trace)"
      ],
      "metadata": {
        "colab": {
          "base_uri": "https://localhost:8080/"
        },
        "id": "NNHVj2o4yzwa",
        "outputId": "2065b90f-9e1b-4b54-d63c-851203fce2af"
      },
      "execution_count": 14,
      "outputs": [
        {
          "output_type": "stream",
          "name": "stdout",
          "text": [
            "\n",
            "\n",
            "\u001b[1m> Entering new AgentExecutor chain...\u001b[0m\n",
            "\u001b[32;1m\u001b[1;3mFirst, I need to find the capital of Uttarakhand. Once I have that information, I can get the current weather data and air quality for that city.\n",
            "Action: duckduckgo_search\n",
            "Action Input: \"Capital of Uttarakhand\"\u001b[0m\u001b[36;1m\u001b[1;3mUttarakhand has a total area of 53,483 km 2 (20,650 sq mi), equal to 1.6% of the total area of India. Dehradun serves as the state capital, with Nainital being the judicial capital. The state is divided into two divisions, Garhwal and Kumaon, with a total of 13 districts. The forest cover in the state is 45.4% of the state's geographical area. Its capital is the northwestern city of Dehra Dun. On November 9, 2000, the state of Uttaranchal—the 27th state of India—was carved out of Uttar Pradesh, and in January 2007 the new state changed its name to Uttarakhand, meaning \"northern region,\" which was the traditional name for the area. Area 19,739 square miles (51,125 square km). Pop. This city, the capital of Uttarakhand, attracts visitors with its pleasant climate, educational institutions, and proximity to popular tourist destinations.Natural Setting: • Geographic Location: Dehradun's location in the Doon Valley, bordered by the Himalayas to the north and the Shivalik Hills to the south, contributes to its moderate ... Nestled in the mountain ranges of the Himalaya, Dehradun is one of the oldest cities of India and is the Capital of Uttarakhand state and is also known as the 'Adobe of Drona', Dehradun has always been an important center for Garhwal rulers which was captured by the British. The headquarters of many National Institutes and Organizations ... What is uttarakhand, What is the capital of uttarakhand state, Uttarakhand, also known as \"Dev Bhoomi,\" is a significant state in India that was established on November 9, 2000, after being separated from Uttar Pradesh.It covers an area of approximately 53,483 square kilometers, with its capital in Dehradun. The state shares its borders with China (Tibet) to the north and Nepal to the east ...\u001b[0m\u001b[32;1m\u001b[1;3mNow that I have found out that the capital of Uttarakhand is Dehradun, I can proceed to get the current weather data and air quality for Dehradun.\n",
            "Action: get_weather_data\n",
            "Action Input: \"Dehradun\"\u001b[0m\u001b[33;1m\u001b[1;3m{'request': {'type': 'City', 'query': 'Dehradun, India', 'language': 'en', 'unit': 'm'}, 'location': {'name': 'Dehradun', 'country': 'India', 'region': 'Uttarakhand', 'lat': '30.317', 'lon': '78.033', 'timezone_id': 'Asia/Kolkata', 'localtime': '2025-06-07 15:38', 'localtime_epoch': 1749310680, 'utc_offset': '5.50'}, 'current': {'observation_time': '10:08 AM', 'temperature': 37, 'weather_code': 113, 'weather_icons': ['https://cdn.worldweatheronline.com/images/wsymbols01_png_64/wsymbol_0001_sunny.png'], 'weather_descriptions': ['Sunny'], 'astro': {'sunrise': '05:16 AM', 'sunset': '07:18 PM', 'moonrise': '03:55 PM', 'moonset': '02:21 AM', 'moon_phase': 'Waxing Gibbous', 'moon_illumination': 84}, 'air_quality': {'co': '592', 'no2': '1.295', 'o3': '200', 'so2': '31.08', 'pm2_5': '86.395', 'pm10': '228.29', 'us-epa-index': '4', 'gb-defra-index': '4'}, 'wind_speed': 9, 'wind_degree': 267, 'wind_dir': 'W', 'pressure': 1003, 'precip': 0, 'humidity': 21, 'cloudcover': 6, 'feelslike': 36, 'uv_index': 5, 'visibility': 10, 'is_day': 'yes'}}\u001b[0m\u001b[32;1m\u001b[1;3mThe current weather condition in Dehradun is sunny with a temperature of 37°C. The air quality index is at level 4, with high levels of CO, O3, PM2.5, and PM10.\n",
            "Final Answer: The capital of Uttarakhand is Dehradun. The current weather condition in Dehradun is sunny with a temperature of 37°C and an air quality index of 4.\u001b[0m\n",
            "\n",
            "\u001b[1m> Finished chain.\u001b[0m\n",
            "{'input': \"Find the capital of UTTARAKhAND, then find it's current weather condition and the air quality\", 'output': 'The capital of Uttarakhand is Dehradun. The current weather condition in Dehradun is sunny with a temperature of 37°C and an air quality index of 4.'}\n"
          ]
        }
      ]
    },
    {
      "cell_type": "code",
      "source": [
        "response['output']"
      ],
      "metadata": {
        "colab": {
          "base_uri": "https://localhost:8080/",
          "height": 35
        },
        "id": "wNFwtwkT0GIz",
        "outputId": "f56c0a55-9cb0-4147-970a-f89a4e9e9946"
      },
      "execution_count": 15,
      "outputs": [
        {
          "output_type": "execute_result",
          "data": {
            "text/plain": [
              "'The capital of Uttarakhand is Dehradun. The current weather condition in Dehradun is sunny with a temperature of 37°C and an air quality index of 4.'"
            ],
            "application/vnd.google.colaboratory.intrinsic+json": {
              "type": "string"
            }
          },
          "metadata": {},
          "execution_count": 15
        }
      ]
    },
    {
      "cell_type": "code",
      "source": [],
      "metadata": {
        "id": "Us8NvNr_2Xn2"
      },
      "execution_count": null,
      "outputs": []
    }
  ]
}